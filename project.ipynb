version https://git-lfs.github.com/spec/v1
oid sha256:8b69eff391875a6246e6ced22484807cf6a7551fb68f11d65ed2888b3e4545d2
size 84632
