version https://git-lfs.github.com/spec/v1
oid sha256:6e0f642612d192c0c1adb4330ab38feda942a94c23e80a92ebdfdb385b94f160
size 297887
